{
 "cells": [
  {
   "cell_type": "code",
   "execution_count": 21,
   "metadata": {},
   "outputs": [],
   "source": [
    "import os\n",
    "import pyspark\n",
    "from pyspark.sql import SparkSession\n",
    "from pyspark.sql.functions import date_format, col, round, sum\n",
    "from pyspark.sql.types import StructField, StructType, StringType, IntegerType, FloatType, DateType"
   ]
  },
  {
   "cell_type": "code",
   "execution_count": null,
   "metadata": {},
   "outputs": [],
   "source": [
    "spark = SparkSession. \\\n",
    "                    builder. \\\n",
    "                    getOrCreate()\n",
    "\n",
    "# spark = SparkSession.builder. \\\n",
    "#                     appName('postgres connect'). \\\n",
    "#                     config(\"spark.jars\", r\"C:\\Users\\Admin\\Downloads\\postgresql-42.6.0.jar\"). \\\n",
    "#                     getOrCreate()\n",
    "\n",
    "url = \"jdbc:postgresql://localhost:5432/retail_db\"\n",
    "table_name = 'test_daily_revenue_2'\n",
    "\n",
    "pdb_user = os.environ.get(\"user_name\")\n",
    "pdb_password = os.environ.get(\"pdb_pass\")"
   ]
  },
  {
   "cell_type": "code",
   "execution_count": 16,
   "metadata": {},
   "outputs": [
    {
     "name": "stdout",
     "output_type": "stream",
     "text": [
      "+--------+----------+-----------------+---------------+\n",
      "|order_id|order_date|order_customer_id|   order_status|\n",
      "+--------+----------+-----------------+---------------+\n",
      "|       2|2013-07-25|              256|PENDING_PAYMENT|\n",
      "|       3|2013-07-25|            12111|       COMPLETE|\n",
      "|       4|2013-07-25|             8827|         CLOSED|\n",
      "|       5|2013-07-25|            11318|       COMPLETE|\n",
      "|       6|2013-07-25|             7130|       COMPLETE|\n",
      "|       7|2013-07-25|             4530|       COMPLETE|\n",
      "|       8|2013-07-25|             2911|     PROCESSING|\n",
      "|       9|2013-07-25|             5657|PENDING_PAYMENT|\n",
      "|      10|2013-07-25|             5648|PENDING_PAYMENT|\n",
      "|      11|2013-07-25|              918| PAYMENT_REVIEW|\n",
      "|      12|2013-07-25|             1837|         CLOSED|\n",
      "|      13|2013-07-25|             9149|PENDING_PAYMENT|\n",
      "|      14|2013-07-25|             9842|     PROCESSING|\n",
      "|      15|2013-07-25|             2568|       COMPLETE|\n",
      "|      16|2013-07-25|             7276|PENDING_PAYMENT|\n",
      "|      17|2013-07-25|             2667|       COMPLETE|\n",
      "|      18|2013-07-25|             1205|         CLOSED|\n",
      "|      19|2013-07-25|             9488|PENDING_PAYMENT|\n",
      "|      20|2013-07-25|             9198|     PROCESSING|\n",
      "|      21|2013-07-25|             2711|        PENDING|\n",
      "+--------+----------+-----------------+---------------+\n",
      "only showing top 20 rows\n",
      "\n"
     ]
    }
   ],
   "source": [
    "orders_schema = StructType([\n",
    "    StructField('order_id', IntegerType(), True),\n",
    "    StructField('order_date', DateType(), True),\n",
    "    StructField('order_customer_id', IntegerType(), True),\n",
    "    StructField('order_status', StringType(), True)\n",
    "])\n",
    "\n",
    "orders_df = spark.read.csv(r'data\\retail_db\\orders\\part-00000', header=True,schema=orders_schema)\n",
    "\n",
    "orders_df.show()"
   ]
  },
  {
   "cell_type": "code",
   "execution_count": 17,
   "metadata": {},
   "outputs": [
    {
     "name": "stdout",
     "output_type": "stream",
     "text": [
      "+-------------+-------------------+---------------------+-------------------+-------------------+------------------------+\n",
      "|order_item_id|order_item_order_id|order_item_product_id|order_item_quantity|order_item_subtotal|order_item_product_price|\n",
      "+-------------+-------------------+---------------------+-------------------+-------------------+------------------------+\n",
      "|            2|                  2|                 1073|                  1|             199.99|                  199.99|\n",
      "|            3|                  2|                  502|                  5|              250.0|                    50.0|\n",
      "|            4|                  2|                  403|                  1|             129.99|                  129.99|\n",
      "|            5|                  4|                  897|                  2|              49.98|                   24.99|\n",
      "|            6|                  4|                  365|                  5|             299.95|                   59.99|\n",
      "|            7|                  4|                  502|                  3|              150.0|                    50.0|\n",
      "|            8|                  4|                 1014|                  4|             199.92|                   49.98|\n",
      "|            9|                  5|                  957|                  1|             299.98|                  299.98|\n",
      "|           10|                  5|                  365|                  5|             299.95|                   59.99|\n",
      "|           11|                  5|                 1014|                  2|              99.96|                   49.98|\n",
      "|           12|                  5|                  957|                  1|             299.98|                  299.98|\n",
      "|           13|                  5|                  403|                  1|             129.99|                  129.99|\n",
      "|           14|                  7|                 1073|                  1|             199.99|                  199.99|\n",
      "|           15|                  7|                  957|                  1|             299.98|                  299.98|\n",
      "|           16|                  7|                  926|                  5|              79.95|                   15.99|\n",
      "|           17|                  8|                  365|                  3|             179.97|                   59.99|\n",
      "|           18|                  8|                  365|                  5|             299.95|                   59.99|\n",
      "|           19|                  8|                 1014|                  4|             199.92|                   49.98|\n",
      "|           20|                  8|                  502|                  1|               50.0|                    50.0|\n",
      "|           21|                  9|                  191|                  2|             199.98|                   99.99|\n",
      "+-------------+-------------------+---------------------+-------------------+-------------------+------------------------+\n",
      "only showing top 20 rows\n",
      "\n"
     ]
    }
   ],
   "source": [
    "order_items_schema = StructType([\n",
    "    StructField('order_item_id', IntegerType(), True),\n",
    "    StructField('order_item_order_id', IntegerType(), True),\n",
    "    StructField('order_item_product_id', IntegerType(), True),\n",
    "    StructField('order_item_quantity', IntegerType(), True),\n",
    "    StructField('order_item_subtotal', FloatType(), True),\n",
    "    StructField('order_item_product_price', FloatType(), True)\n",
    "])\n",
    "\n",
    "order_items_df = spark.read.csv(r'data/retail_db/order_items/part-00000', header=True, schema=order_items_schema)\n",
    "\n",
    "order_items_df.show()"
   ]
  },
  {
   "cell_type": "code",
   "execution_count": 18,
   "metadata": {},
   "outputs": [
    {
     "name": "stdout",
     "output_type": "stream",
     "text": [
      "+----------+-------------+\n",
      "|order_date|daily_revenue|\n",
      "+----------+-------------+\n",
      "|2014-01-05|     59093.58|\n",
      "|2014-01-11|     58913.51|\n",
      "|2014-01-30|     58597.63|\n",
      "|2014-01-21|     56125.68|\n",
      "|2014-01-03|      53080.1|\n",
      "|2014-01-10|     52781.11|\n",
      "|2014-01-15|     50622.14|\n",
      "|2014-01-22|     49359.94|\n",
      "|2014-01-20|     43416.32|\n",
      "|2014-01-16|     42362.41|\n",
      "|2014-01-12|     41235.96|\n",
      "|2014-01-19|      41023.1|\n",
      "|2014-01-23|     39708.67|\n",
      "|2014-01-31|     39644.18|\n",
      "|2014-01-29|     39289.22|\n",
      "|2014-01-09|     38871.87|\n",
      "|2014-01-07|     38545.64|\n",
      "|2014-01-28|     38419.64|\n",
      "|2014-01-14|     37722.19|\n",
      "|2014-01-13|     35398.77|\n",
      "+----------+-------------+\n",
      "only showing top 20 rows\n",
      "\n"
     ]
    }
   ],
   "source": [
    "merged = orders_df.join(order_items_df, order_items_df['order_item_order_id'] == orders_df['order_id'], how='inner')\n",
    "\n",
    "\n",
    "merged = merged.withColumn('order_month', date_format('order_date', 'yyyyMM').cast('int'))\n",
    "\n",
    "agg_df = merged.filter('order_month == 201401 and order_status in (\"COMPLETE\", \"CLOSED\")'). \\\n",
    "    groupby('order_date'). \\\n",
    "    agg(round(sum('order_item_subtotal'), 2).alias('daily_revenue')). \\\n",
    "    orderBy(col('daily_revenue').desc())\n",
    "\n",
    "agg_df.show()"
   ]
  },
  {
   "cell_type": "code",
   "execution_count": 19,
   "metadata": {},
   "outputs": [],
   "source": [
    "agg_df.write.format(\"jdbc\"). \\\n",
    "                option(\"url\", url). \\\n",
    "                option(\"driver\", \"org.postgresql.Driver\"). \\\n",
    "                option(\"dbtable\", table_name). \\\n",
    "                option(\"user\", pdb_user). \\\n",
    "                option(\"password\", pdb_password). \\\n",
    "                save()"
   ]
  },
  {
   "cell_type": "code",
   "execution_count": 20,
   "metadata": {},
   "outputs": [
    {
     "name": "stdout",
     "output_type": "stream",
     "text": [
      "http://DESKTOP-G87TS7V:4040\n"
     ]
    }
   ],
   "source": [
    "\n",
    "ui_url = spark.sparkContext.uiWebUrl\n",
    "print(ui_url)"
   ]
  },
  {
   "cell_type": "code",
   "execution_count": null,
   "metadata": {},
   "outputs": [],
   "source": []
  }
 ],
 "metadata": {
  "kernelspec": {
   "display_name": "Python 3",
   "language": "python",
   "name": "python3"
  },
  "language_info": {
   "codemirror_mode": {
    "name": "ipython",
    "version": 3
   },
   "file_extension": ".py",
   "mimetype": "text/x-python",
   "name": "python",
   "nbconvert_exporter": "python",
   "pygments_lexer": "ipython3",
   "version": "3.10.6"
  }
 },
 "nbformat": 4,
 "nbformat_minor": 2
}
