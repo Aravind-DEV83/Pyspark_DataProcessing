{
 "cells": [
  {
   "cell_type": "code",
   "execution_count": 2,
   "metadata": {},
   "outputs": [],
   "source": [
    "import os\n",
    "import pyspark\n",
    "import pandas as pd\n",
    "import json\n",
    "from pyspark.sql import SparkSession\n",
    "from pyspark.sql.functions import date_format, count, col, sum, round\n",
    "# from delta.tables import DeltaTable"
   ]
  },
  {
   "cell_type": "code",
   "execution_count": 24,
   "metadata": {},
   "outputs": [],
   "source": [
    "spark = SparkSession.builder \\\n",
    "                    .config('spark.jars.packages', 'io.delta:delta-spark_2.12:3.0.0') \\\n",
    "                    .config(\"spark.sql.extensions\", \"io.delta.sql.DeltaSparkSessionExtension\") \\\n",
    "                    .config(\"spark.sql.catalog.spark_catalog\", \"org.apache.spark.sql.delta.catalog.DeltaCatalog\") \\\n",
    "                    .config('spark.sql.catalogImplementation', 'hive') \\\n",
    "                    .getOrCreate()\n"
   ]
  },
  {
   "cell_type": "code",
   "execution_count": 25,
   "metadata": {},
   "outputs": [
    {
     "name": "stdout",
     "output_type": "stream",
     "text": [
      "+--------------------+--------------------+\n",
      "|                 key|               value|\n",
      "+--------------------+--------------------+\n",
      "|spark.sql.warehou...|file:/D:/Data_Pro...|\n",
      "+--------------------+--------------------+\n",
      "\n"
     ]
    }
   ],
   "source": [
    "\n",
    "spark.sql('SET spark.sql.warehouse.dir').show()"
   ]
  },
  {
   "cell_type": "code",
   "execution_count": 27,
   "metadata": {},
   "outputs": [
    {
     "name": "stdout",
     "output_type": "stream",
     "text": [
      "++\n",
      "||\n",
      "++\n",
      "++\n",
      "\n"
     ]
    }
   ],
   "source": [
    "spark.sql('DROP DATABASE IF EXISTS retail_db CASCADE').show()"
   ]
  },
  {
   "cell_type": "code",
   "execution_count": 28,
   "metadata": {},
   "outputs": [
    {
     "name": "stdout",
     "output_type": "stream",
     "text": [
      "++\n",
      "||\n",
      "++\n",
      "++\n",
      "\n"
     ]
    }
   ],
   "source": [
    "spark.sql('CREATE DATABASE retail_db').show()"
   ]
  },
  {
   "cell_type": "code",
   "execution_count": 29,
   "metadata": {},
   "outputs": [
    {
     "data": {
      "text/plain": [
       "DataFrame[]"
      ]
     },
     "execution_count": 29,
     "metadata": {},
     "output_type": "execute_result"
    }
   ],
   "source": [
    "spark.sql('USE DATABASE retail_db')"
   ]
  },
  {
   "cell_type": "code",
   "execution_count": 30,
   "metadata": {},
   "outputs": [
    {
     "name": "stdout",
     "output_type": "stream",
     "text": [
      "+------------------+\n",
      "|current_database()|\n",
      "+------------------+\n",
      "|         retail_db|\n",
      "+------------------+\n",
      "\n"
     ]
    }
   ],
   "source": [
    "spark.sql('SELECT CURRENT_DATABASE()').show()"
   ]
  },
  {
   "cell_type": "code",
   "execution_count": 31,
   "metadata": {},
   "outputs": [
    {
     "name": "stdout",
     "output_type": "stream",
     "text": [
      "++\n",
      "||\n",
      "++\n",
      "++\n",
      "\n"
     ]
    }
   ],
   "source": [
    "spark.sql(''' \n",
    "    CREATE TABLE orders (\n",
    "          order_id INT,\n",
    "          order_date STRING,\n",
    "          order_customer_id INT,\n",
    "          order_status STRING\n",
    "    ) USING DELTA\n",
    "''').show()"
   ]
  },
  {
   "cell_type": "code",
   "execution_count": 32,
   "metadata": {},
   "outputs": [
    {
     "name": "stdout",
     "output_type": "stream",
     "text": [
      "++\n",
      "||\n",
      "++\n",
      "++\n",
      "\n"
     ]
    }
   ],
   "source": [
    "spark.sql(''' \n",
    "    CREATE OR REPLACE TEMPORARY VIEW orders_v (\n",
    "          order_id INT,\n",
    "          order_date DATE,\n",
    "          order_customer_id INT,\n",
    "          order_status STRING\n",
    "    ) USING CSV\n",
    "    OPTIONS (\n",
    "          path='data/retail_db/orders'\n",
    "    )\n",
    "''').show()"
   ]
  },
  {
   "cell_type": "code",
   "execution_count": 33,
   "metadata": {},
   "outputs": [
    {
     "name": "stdout",
     "output_type": "stream",
     "text": [
      "+--------+----------+-----------------+---------------+\n",
      "|order_id|order_date|order_customer_id|   order_status|\n",
      "+--------+----------+-----------------+---------------+\n",
      "|       1|2013-07-25|            11599|         CLOSED|\n",
      "|       2|2013-07-25|              256|PENDING_PAYMENT|\n",
      "|       3|2013-07-25|            12111|       COMPLETE|\n",
      "|       4|2013-07-25|             8827|         CLOSED|\n",
      "|       5|2013-07-25|            11318|       COMPLETE|\n",
      "|       6|2013-07-25|             7130|       COMPLETE|\n",
      "|       7|2013-07-25|             4530|       COMPLETE|\n",
      "|       8|2013-07-25|             2911|     PROCESSING|\n",
      "|       9|2013-07-25|             5657|PENDING_PAYMENT|\n",
      "|      10|2013-07-25|             5648|PENDING_PAYMENT|\n",
      "|      11|2013-07-25|              918| PAYMENT_REVIEW|\n",
      "|      12|2013-07-25|             1837|         CLOSED|\n",
      "|      13|2013-07-25|             9149|PENDING_PAYMENT|\n",
      "|      14|2013-07-25|             9842|     PROCESSING|\n",
      "|      15|2013-07-25|             2568|       COMPLETE|\n",
      "|      16|2013-07-25|             7276|PENDING_PAYMENT|\n",
      "|      17|2013-07-25|             2667|       COMPLETE|\n",
      "|      18|2013-07-25|             1205|         CLOSED|\n",
      "|      19|2013-07-25|             9488|PENDING_PAYMENT|\n",
      "|      20|2013-07-25|             9198|     PROCESSING|\n",
      "+--------+----------+-----------------+---------------+\n",
      "only showing top 20 rows\n",
      "\n"
     ]
    }
   ],
   "source": [
    "spark.sql('SELECT * FROM orders_v').show()"
   ]
  },
  {
   "cell_type": "code",
   "execution_count": 34,
   "metadata": {},
   "outputs": [
    {
     "name": "stdout",
     "output_type": "stream",
     "text": [
      "++\n",
      "||\n",
      "++\n",
      "++\n",
      "\n"
     ]
    }
   ],
   "source": [
    "spark.sql(''' \n",
    "INSERT INTO orders \n",
    "SELECT * FROM orders_v\n",
    "''').show()"
   ]
  },
  {
   "cell_type": "code",
   "execution_count": 35,
   "metadata": {},
   "outputs": [
    {
     "name": "stdout",
     "output_type": "stream",
     "text": [
      "+--------+----------+-----------------+---------------+\n",
      "|order_id|order_date|order_customer_id|   order_status|\n",
      "+--------+----------+-----------------+---------------+\n",
      "|       1|2013-07-25|            11599|         CLOSED|\n",
      "|       2|2013-07-25|              256|PENDING_PAYMENT|\n",
      "|       3|2013-07-25|            12111|       COMPLETE|\n",
      "|       4|2013-07-25|             8827|         CLOSED|\n",
      "|       5|2013-07-25|            11318|       COMPLETE|\n",
      "|       6|2013-07-25|             7130|       COMPLETE|\n",
      "|       7|2013-07-25|             4530|       COMPLETE|\n",
      "|       8|2013-07-25|             2911|     PROCESSING|\n",
      "|       9|2013-07-25|             5657|PENDING_PAYMENT|\n",
      "|      10|2013-07-25|             5648|PENDING_PAYMENT|\n",
      "|      11|2013-07-25|              918| PAYMENT_REVIEW|\n",
      "|      12|2013-07-25|             1837|         CLOSED|\n",
      "|      13|2013-07-25|             9149|PENDING_PAYMENT|\n",
      "|      14|2013-07-25|             9842|     PROCESSING|\n",
      "|      15|2013-07-25|             2568|       COMPLETE|\n",
      "|      16|2013-07-25|             7276|PENDING_PAYMENT|\n",
      "|      17|2013-07-25|             2667|       COMPLETE|\n",
      "|      18|2013-07-25|             1205|         CLOSED|\n",
      "|      19|2013-07-25|             9488|PENDING_PAYMENT|\n",
      "|      20|2013-07-25|             9198|     PROCESSING|\n",
      "+--------+----------+-----------------+---------------+\n",
      "only showing top 20 rows\n",
      "\n"
     ]
    }
   ],
   "source": [
    "spark.sql('SELECT * FROM orders').show()"
   ]
  },
  {
   "cell_type": "code",
   "execution_count": 36,
   "metadata": {},
   "outputs": [
    {
     "name": "stdout",
     "output_type": "stream",
     "text": [
      "++\n",
      "||\n",
      "++\n",
      "++\n",
      "\n"
     ]
    }
   ],
   "source": [
    "spark.sql(''' \n",
    "    CREATE TABLE order_items (\n",
    "          order_item_id INT,\n",
    "          order_item_order_id INT,\n",
    "          order_item_product_id INT,\n",
    "          order_item_quantity INT,\n",
    "          order_item_subtotal FLOAT,\n",
    "          order_item_product_price FLOAT\n",
    "\n",
    "    )USING DELTA\n",
    "''').show()"
   ]
  },
  {
   "cell_type": "code",
   "execution_count": 37,
   "metadata": {},
   "outputs": [
    {
     "name": "stdout",
     "output_type": "stream",
     "text": [
      "++\n",
      "||\n",
      "++\n",
      "++\n",
      "\n"
     ]
    }
   ],
   "source": [
    "spark.sql(''' \n",
    "    CREATE OR REPLACE TEMPORARY VIEW order_items_v (\n",
    "          order_item_id INT,\n",
    "          order_item_order_id INT,\n",
    "          order_item_product_id INT,\n",
    "          order_item_quantity INT,\n",
    "          order_item_subtotal FLOAT,\n",
    "          order_item_product_price FLOAT\n",
    "    ) USING CSV \n",
    "    OPTIONS (\n",
    "          path='data/retail_db/order_items'\n",
    "    )\n",
    "''').show()"
   ]
  },
  {
   "cell_type": "code",
   "execution_count": 38,
   "metadata": {},
   "outputs": [
    {
     "name": "stdout",
     "output_type": "stream",
     "text": [
      "++\n",
      "||\n",
      "++\n",
      "++\n",
      "\n"
     ]
    }
   ],
   "source": [
    "spark.sql(''' \n",
    "INSERT INTO order_items\n",
    "SELECT * FROM order_items_v\n",
    "\n",
    "''').show()"
   ]
  },
  {
   "cell_type": "code",
   "execution_count": 39,
   "metadata": {},
   "outputs": [
    {
     "name": "stdout",
     "output_type": "stream",
     "text": [
      "+-------------+-------------------+---------------------+-------------------+-------------------+------------------------+\n",
      "|order_item_id|order_item_order_id|order_item_product_id|order_item_quantity|order_item_subtotal|order_item_product_price|\n",
      "+-------------+-------------------+---------------------+-------------------+-------------------+------------------------+\n",
      "|       130539|              52251|                 1014|                  5|              249.9|                   49.98|\n",
      "|       130540|              52251|                  703|                  4|              79.96|                   19.99|\n",
      "|       130541|              52253|                  403|                  1|             129.99|                  129.99|\n",
      "|       130542|              52253|                 1073|                  1|             199.99|                  199.99|\n",
      "|       130543|              52253|                  957|                  1|             299.98|                  299.98|\n",
      "|       130544|              52254|                  365|                  2|             119.98|                   59.99|\n",
      "|       130545|              52254|                  403|                  1|             129.99|                  129.99|\n",
      "|       130546|              52254|                  821|                  5|             259.95|                   51.99|\n",
      "|       130547|              52254|                 1073|                  1|             199.99|                  199.99|\n",
      "|       130548|              52254|                  365|                  1|              59.99|                   59.99|\n",
      "|       130549|              52255|                  957|                  1|             299.98|                  299.98|\n",
      "|       130550|              52255|                  403|                  1|             129.99|                  129.99|\n",
      "|       130551|              52255|                  365|                  2|             119.98|                   59.99|\n",
      "|       130552|              52255|                 1004|                  1|             399.98|                  399.98|\n",
      "|       130553|              52256|                  642|                  4|              120.0|                    30.0|\n",
      "|       130554|              52256|                  365|                  1|              59.99|                   59.99|\n",
      "|       130555|              52257|                  810|                  3|              59.97|                   19.99|\n",
      "|       130556|              52257|                 1014|                  4|             199.92|                   49.98|\n",
      "|       130557|              52258|                 1014|                  4|             199.92|                   49.98|\n",
      "|       130558|              52258|                  365|                  1|              59.99|                   59.99|\n",
      "+-------------+-------------------+---------------------+-------------------+-------------------+------------------------+\n",
      "only showing top 20 rows\n",
      "\n"
     ]
    }
   ],
   "source": [
    "spark.sql('SELECT * FROM order_items').show()"
   ]
  },
  {
   "cell_type": "code",
   "execution_count": 40,
   "metadata": {},
   "outputs": [
    {
     "name": "stdout",
     "output_type": "stream",
     "text": [
      "+--------+\n",
      "|count(1)|\n",
      "+--------+\n",
      "|  172198|\n",
      "+--------+\n",
      "\n"
     ]
    }
   ],
   "source": [
    "spark.sql('SELECT COUNT(*) FROM order_items').show()"
   ]
  },
  {
   "cell_type": "code",
   "execution_count": 41,
   "metadata": {},
   "outputs": [
    {
     "name": "stdout",
     "output_type": "stream",
     "text": [
      "+---------+-------------+-----------+\n",
      "|namespace|    tableName|isTemporary|\n",
      "+---------+-------------+-----------+\n",
      "|retail_db|  order_items|      false|\n",
      "|retail_db|       orders|      false|\n",
      "|         |order_items_v|      false|\n",
      "|         |     orders_v|      false|\n",
      "+---------+-------------+-----------+\n",
      "\n"
     ]
    }
   ],
   "source": [
    "spark.sql('show tables').show()"
   ]
  },
  {
   "cell_type": "code",
   "execution_count": 42,
   "metadata": {},
   "outputs": [
    {
     "name": "stdout",
     "output_type": "stream",
     "text": [
      "+----------+-------------+\n",
      "|order_date|daily_revenue|\n",
      "+----------+-------------+\n",
      "|2013-12-16|     10255.68|\n",
      "|2014-07-06|     16451.76|\n",
      "|2014-05-30|     17890.91|\n",
      "|2013-08-13|     17956.88|\n",
      "|2013-12-02|     19278.83|\n",
      "|2014-05-27|      19599.9|\n",
      "|2014-04-19|     20096.88|\n",
      "|2014-01-08|     20812.66|\n",
      "|2014-06-21|     20886.61|\n",
      "|2014-06-05|     21356.55|\n",
      "|2013-08-19|     21397.59|\n",
      "|2013-09-13|     21773.71|\n",
      "|2014-01-02|      21872.7|\n",
      "|2013-10-01|     22066.39|\n",
      "|2013-12-14|     22296.74|\n",
      "|2013-09-11|     22322.13|\n",
      "|2014-04-24|     22412.48|\n",
      "|2013-08-28|     22637.86|\n",
      "|2014-04-17|     22801.21|\n",
      "|2013-09-04|     22946.52|\n",
      "+----------+-------------+\n",
      "only showing top 20 rows\n",
      "\n"
     ]
    }
   ],
   "source": [
    "spark.sql(''' \n",
    "SELECT \n",
    "    o.order_date,\n",
    "    round(sum(oi.order_item_subtotal), 2) as daily_revenue\n",
    "FROM orders o\n",
    "INNER JOIN order_items oi\n",
    "ON o.order_id = oi.order_item_order_id\n",
    "WHERE o.order_status in ('COMPLETE', 'CLOSED')\n",
    "GROUP BY 1\n",
    "ORDER BY daily_revenue\n",
    "''').show()"
   ]
  },
  {
   "cell_type": "code",
   "execution_count": 49,
   "metadata": {},
   "outputs": [
    {
     "data": {
      "text/plain": [
       "DataFrame[]"
      ]
     },
     "execution_count": 49,
     "metadata": {},
     "output_type": "execute_result"
    }
   ],
   "source": [
    "spark.sql(''' \n",
    "CREATE TABLE daily_revenue (\n",
    "    order_date DATE,\n",
    "    order_revenue FLOAT\n",
    ") USING DELTA\n",
    "''')"
   ]
  },
  {
   "cell_type": "code",
   "execution_count": 51,
   "metadata": {},
   "outputs": [
    {
     "data": {
      "text/plain": [
       "DataFrame[]"
      ]
     },
     "execution_count": 51,
     "metadata": {},
     "output_type": "execute_result"
    }
   ],
   "source": [
    "spark.sql(''' \n",
    "INSERT INTO daily_revenue\n",
    "SELECT \n",
    "    o.order_date,\n",
    "    round(sum(oi.order_item_subtotal), 2) as daily_revenue\n",
    "FROM orders o\n",
    "INNER JOIN order_items oi\n",
    "ON o.order_id = oi.order_item_order_id\n",
    "WHERE o.order_status in ('COMPLETE', 'CLOSED')\n",
    "GROUP BY 1\n",
    "ORDER BY daily_revenue\n",
    "''')"
   ]
  },
  {
   "cell_type": "code",
   "execution_count": 52,
   "metadata": {},
   "outputs": [
    {
     "name": "stdout",
     "output_type": "stream",
     "text": [
      "+--------+\n",
      "|count(1)|\n",
      "+--------+\n",
      "|     364|\n",
      "+--------+\n",
      "\n"
     ]
    }
   ],
   "source": [
    "spark.sql('SELECT COUNT(*) FROM daily_revenue').show()"
   ]
  },
  {
   "cell_type": "code",
   "execution_count": 53,
   "metadata": {},
   "outputs": [
    {
     "name": "stdout",
     "output_type": "stream",
     "text": [
      "++\n",
      "||\n",
      "++\n",
      "++\n",
      "\n"
     ]
    }
   ],
   "source": [
    "spark.sql(''' \n",
    "INSERT OVERWRITE daily_revenue\n",
    "SELECT \n",
    "    o.order_date,\n",
    "    round(sum(oi.order_item_subtotal), 2) as daily_revenue\n",
    "FROM orders o\n",
    "INNER JOIN order_items oi\n",
    "ON o.order_id = oi.order_item_order_id\n",
    "WHERE o.order_status in ('COMPLETE', 'CLOSED')\n",
    "GROUP BY 1\n",
    "ORDER BY daily_revenue\n",
    "''' ).show()"
   ]
  },
  {
   "cell_type": "code",
   "execution_count": 54,
   "metadata": {},
   "outputs": [
    {
     "name": "stdout",
     "output_type": "stream",
     "text": [
      "+--------+\n",
      "|count(1)|\n",
      "+--------+\n",
      "|     364|\n",
      "+--------+\n",
      "\n"
     ]
    }
   ],
   "source": [
    "spark.sql('SELECT COUNT(*) FROM daily_revenue').show()"
   ]
  },
  {
   "cell_type": "code",
   "execution_count": 55,
   "metadata": {},
   "outputs": [],
   "source": [
    "spark.stop()"
   ]
  }
 ],
 "metadata": {
  "kernelspec": {
   "display_name": "Python 3",
   "language": "python",
   "name": "python3"
  },
  "language_info": {
   "codemirror_mode": {
    "name": "ipython",
    "version": 3
   },
   "file_extension": ".py",
   "mimetype": "text/x-python",
   "name": "python",
   "nbconvert_exporter": "python",
   "pygments_lexer": "ipython3",
   "version": "3.10.6"
  }
 },
 "nbformat": 4,
 "nbformat_minor": 2
}
