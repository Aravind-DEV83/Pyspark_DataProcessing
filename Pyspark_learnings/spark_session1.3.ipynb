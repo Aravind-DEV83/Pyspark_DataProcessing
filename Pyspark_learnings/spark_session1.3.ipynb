{
 "cells": [
  {
   "cell_type": "code",
   "execution_count": 30,
   "metadata": {},
   "outputs": [],
   "source": [
    "import os\n",
    "import pyspark\n",
    "import logging\n",
    "from pyspark.sql import SparkSession\n",
    "from pyspark.sql.functions import sum, round, col, date_format"
   ]
  },
  {
   "cell_type": "code",
   "execution_count": 31,
   "metadata": {},
   "outputs": [],
   "source": [
    "spark = SparkSession.builder. \\\n",
    "                    appName('Spark SQL application'). \\\n",
    "                    getOrCreate()\n",
    "\n",
    "url = \"jdbc:postgresql://localhost:5432/retail_db\""
   ]
  },
  {
   "cell_type": "code",
   "execution_count": 32,
   "metadata": {},
   "outputs": [
    {
     "name": "stdout",
     "output_type": "stream",
     "text": [
      "+--------+-------------------+-----------------+---------------+\n",
      "|order_id|         order_date|order_customer_id|   order_status|\n",
      "+--------+-------------------+-----------------+---------------+\n",
      "|       1|2013-07-25 00:00:00|            11599|         CLOSED|\n",
      "|       2|2013-07-25 00:00:00|              256|PENDING_PAYMENT|\n",
      "|       3|2013-07-25 00:00:00|            12111|       COMPLETE|\n",
      "|       4|2013-07-25 00:00:00|             8827|         CLOSED|\n",
      "|       5|2013-07-25 00:00:00|            11318|       COMPLETE|\n",
      "|       6|2013-07-25 00:00:00|             7130|       COMPLETE|\n",
      "|       7|2013-07-25 00:00:00|             4530|       COMPLETE|\n",
      "|       8|2013-07-25 00:00:00|             2911|     PROCESSING|\n",
      "|       9|2013-07-25 00:00:00|             5657|PENDING_PAYMENT|\n",
      "|      10|2013-07-25 00:00:00|             5648|PENDING_PAYMENT|\n",
      "|      11|2013-07-25 00:00:00|              918| PAYMENT_REVIEW|\n",
      "|      12|2013-07-25 00:00:00|             1837|         CLOSED|\n",
      "|      13|2013-07-25 00:00:00|             9149|PENDING_PAYMENT|\n",
      "|      14|2013-07-25 00:00:00|             9842|     PROCESSING|\n",
      "|      15|2013-07-25 00:00:00|             2568|       COMPLETE|\n",
      "|      16|2013-07-25 00:00:00|             7276|PENDING_PAYMENT|\n",
      "|      17|2013-07-25 00:00:00|             2667|       COMPLETE|\n",
      "|      18|2013-07-25 00:00:00|             1205|         CLOSED|\n",
      "|      19|2013-07-25 00:00:00|             9488|PENDING_PAYMENT|\n",
      "|      20|2013-07-25 00:00:00|             9198|     PROCESSING|\n",
      "+--------+-------------------+-----------------+---------------+\n",
      "only showing top 20 rows\n",
      "\n"
     ]
    }
   ],
   "source": [
    "def read_from_pdb(table_name):\n",
    "    spark_df = spark.read.format(\"jdbc\"). \\\n",
    "                option(\"url\", url). \\\n",
    "                option(\"driver\", \"org.postgresql.Driver\"). \\\n",
    "                option(\"dbtable\", table_name). \\\n",
    "                option(\"user\", os.environ.get(\"user_name\")). \\\n",
    "                option(\"password\", os.environ.get(\"pdb_pass\")). \\\n",
    "                load()\n",
    "\n",
    "    return spark_df\n",
    "\n",
    "\n",
    "orders_df = read_from_pdb(\"orders\")\n",
    "oder_items_df = read_from_pdb(\"order_items\")\n",
    "\n",
    "\n",
    "\n",
    "orders_df.createOrReplaceTempView(\"orders\")\n",
    "\n",
    "orders_df.show()"
   ]
  },
  {
   "cell_type": "code",
   "execution_count": 33,
   "metadata": {},
   "outputs": [
    {
     "name": "stdout",
     "output_type": "stream",
     "text": [
      "+-------------+-------------------+---------------------+-------------------+-------------------+------------------------+\n",
      "|order_item_id|order_item_order_id|order_item_product_id|order_item_quantity|order_item_subtotal|order_item_product_price|\n",
      "+-------------+-------------------+---------------------+-------------------+-------------------+------------------------+\n",
      "|            1|                  1|                  957|                  1|             299.98|                  299.98|\n",
      "|            2|                  2|                 1073|                  1|             199.99|                  199.99|\n",
      "|            3|                  2|                  502|                  5|              250.0|                    50.0|\n",
      "|            4|                  2|                  403|                  1|             129.99|                  129.99|\n",
      "|            5|                  4|                  897|                  2|              49.98|                   24.99|\n",
      "|            6|                  4|                  365|                  5|             299.95|                   59.99|\n",
      "|            7|                  4|                  502|                  3|              150.0|                    50.0|\n",
      "|            8|                  4|                 1014|                  4|             199.92|                   49.98|\n",
      "|            9|                  5|                  957|                  1|             299.98|                  299.98|\n",
      "|           10|                  5|                  365|                  5|             299.95|                   59.99|\n",
      "|           11|                  5|                 1014|                  2|              99.96|                   49.98|\n",
      "|           12|                  5|                  957|                  1|             299.98|                  299.98|\n",
      "|           13|                  5|                  403|                  1|             129.99|                  129.99|\n",
      "|           14|                  7|                 1073|                  1|             199.99|                  199.99|\n",
      "|           15|                  7|                  957|                  1|             299.98|                  299.98|\n",
      "|           16|                  7|                  926|                  5|              79.95|                   15.99|\n",
      "|           17|                  8|                  365|                  3|             179.97|                   59.99|\n",
      "|           18|                  8|                  365|                  5|             299.95|                   59.99|\n",
      "|           19|                  8|                 1014|                  4|             199.92|                   49.98|\n",
      "|           20|                  8|                  502|                  1|               50.0|                    50.0|\n",
      "+-------------+-------------------+---------------------+-------------------+-------------------+------------------------+\n",
      "only showing top 20 rows\n",
      "\n"
     ]
    }
   ],
   "source": [
    "oder_items_df.createOrReplaceTempView(\"order_items\")\n",
    "\n",
    "oder_items_df.show()"
   ]
  },
  {
   "cell_type": "code",
   "execution_count": 34,
   "metadata": {},
   "outputs": [],
   "source": [
    "result = spark.sql(''' \n",
    "    SELECT\n",
    "    o.order_date,\n",
    "    ROUND(SUM(oi.order_item_subtotal), 2) AS daily_revenue\n",
    "FROM orders o\n",
    "JOIN order_items oi \n",
    "ON o.order_id = oi.order_item_order_id\n",
    "WHERE o.order_status IN ('COMPLETE', 'CLOSED')\n",
    "    AND date_format(o.order_date, 'yyyyMM') = '201401'\n",
    "GROUP BY o.order_date\n",
    "ORDER BY daily_revenue desc\n",
    "''')"
   ]
  },
  {
   "cell_type": "code",
   "execution_count": 35,
   "metadata": {},
   "outputs": [
    {
     "name": "stdout",
     "output_type": "stream",
     "text": [
      "+-------------------+-------------+\n",
      "|         order_date|daily_revenue|\n",
      "+-------------------+-------------+\n",
      "|2014-01-05 00:00:00|     59093.58|\n",
      "|2014-01-11 00:00:00|     58913.51|\n",
      "|2014-01-30 00:00:00|     58597.63|\n",
      "|2014-01-21 00:00:00|     56125.68|\n",
      "|2014-01-03 00:00:00|      53080.1|\n",
      "|2014-01-10 00:00:00|     52781.11|\n",
      "|2014-01-15 00:00:00|     50622.14|\n",
      "|2014-01-22 00:00:00|     49359.94|\n",
      "|2014-01-20 00:00:00|     43416.32|\n",
      "|2014-01-16 00:00:00|     42362.41|\n",
      "|2014-01-12 00:00:00|     41235.96|\n",
      "|2014-01-19 00:00:00|      41023.1|\n",
      "|2014-01-23 00:00:00|     39708.67|\n",
      "|2014-01-31 00:00:00|     39644.18|\n",
      "|2014-01-29 00:00:00|     39289.22|\n",
      "|2014-01-09 00:00:00|     38871.87|\n",
      "|2014-01-07 00:00:00|     38545.64|\n",
      "|2014-01-28 00:00:00|     38419.64|\n",
      "|2014-01-14 00:00:00|     37722.19|\n",
      "|2014-01-13 00:00:00|     35398.77|\n",
      "+-------------------+-------------+\n",
      "only showing top 20 rows\n",
      "\n"
     ]
    }
   ],
   "source": [
    "result.show()"
   ]
  },
  {
   "cell_type": "code",
   "execution_count": 29,
   "metadata": {},
   "outputs": [],
   "source": [
    "result.write.format(\"jdbc\"). \\\n",
    "            option(\"url\", url). \\\n",
    "            option(\"driver\", \"org.postgresql.Driver\"). \\\n",
    "            option(\"dbtable\", \"sql_daily_revenue\"). \\\n",
    "            option(\"user\", os.environ.get(\"user_name\")). \\\n",
    "            option(\"password\", os.environ.get(\"pdb_pass\")). \\\n",
    "            save()"
   ]
  },
  {
   "cell_type": "code",
   "execution_count": null,
   "metadata": {},
   "outputs": [],
   "source": []
  }
 ],
 "metadata": {
  "kernelspec": {
   "display_name": "Python 3",
   "language": "python",
   "name": "python3"
  },
  "language_info": {
   "codemirror_mode": {
    "name": "ipython",
    "version": 3
   },
   "file_extension": ".py",
   "mimetype": "text/x-python",
   "name": "python",
   "nbconvert_exporter": "python",
   "pygments_lexer": "ipython3",
   "version": "3.10.6"
  }
 },
 "nbformat": 4,
 "nbformat_minor": 2
}
