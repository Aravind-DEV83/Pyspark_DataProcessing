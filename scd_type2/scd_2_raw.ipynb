{
 "cells": [
  {
   "cell_type": "code",
   "execution_count": 1,
   "metadata": {},
   "outputs": [],
   "source": [
    "import os\n",
    "import pyspark\n",
    "from pyspark.sql import SparkSession\n",
    "from pyspark.sql.window import Window\n",
    "from pyspark.sql.functions import current_date, current_timestamp, date_format, to_date, date_sub, round, sum, concat_ws, md5, col, lit, monotonically_increasing_id, when, row_number"
   ]
  },
  {
   "cell_type": "code",
   "execution_count": 2,
   "metadata": {},
   "outputs": [],
   "source": [
    "spark = SparkSession.builder. \\\n",
    "                    master(\"local\"). \\\n",
    "                    appName(\"SCD_Type_2_Implementation\") .\\\n",
    "                    getOrCreate()"
   ]
  },
  {
   "cell_type": "code",
   "execution_count": 3,
   "metadata": {},
   "outputs": [],
   "source": [
    "# URL to connect to my postgresql local server\n",
    "url = \"jdbc:postgresql://localhost:5432/retail_db\""
   ]
  },
  {
   "cell_type": "code",
   "execution_count": 4,
   "metadata": {},
   "outputs": [],
   "source": [
    "\n",
    "def column_renamer(df, suffix, append):\n",
    "\n",
    "    if append:\n",
    "        new_column_names = list(map(lambda x: x + suffix, df.columns))\n",
    "    else:\n",
    "        new_column_names = list(map(lambda x: x.replace(suffix, \"\"), df.columns))\n",
    "\n",
    "    return df.toDF(*new_column_names)\n",
    "\n",
    "def get_hash(df, keys_list):\n",
    "\n",
    "    columns = [col(column) for column in keys_list]\n",
    "\n",
    "    if columns:\n",
    "        hash_values = df.withColumn(\"hash_md5\", md5(concat_ws(\"_\", *columns)))\n",
    "    else:\n",
    "        hash_values = df.withColumn(\"hash_md5\", md5(lit(1)))\n",
    "\n",
    "    return hash_values\n",
    "        "
   ]
  },
  {
   "cell_type": "code",
   "execution_count": 6,
   "metadata": {},
   "outputs": [],
   "source": [
    "def read_dataframe(self, table_name: str, mode: str):\n",
    "\n",
    "    df = spark.read.format(\"bigquery\"). \\\n",
    "        option(\"project\", \"PROJECT_ID\"). \\\n",
    "        load(f\"pyspark_scd.{table_name}\")\n",
    "    \n",
    "    return df\n",
    "\n",
    "def write_dataframe(self, df, table_name: str, mode: str) -> None:\n",
    "\n",
    "    df.write.format(\"bigquery\") \\\n",
    "            .option(\"project\", \"PROJECT_ID\") \\\n",
    "            .option(\"parentProject\", \"PROJECT_ID\") \\\n",
    "            .option(\"table\", f\"pyspark_scd.{table_name}\") \\\n",
    "            .option(\"writeMethod\", \"direct\") \\\n",
    "            .mode(mode) \\\n",
    "            .save()\n",
    "    return"
   ]
  },
  {
   "cell_type": "code",
   "execution_count": 358,
   "metadata": {},
   "outputs": [
    {
     "name": "stdout",
     "output_type": "stream",
     "text": [
      "+----------+-----+----------+----------+------------+--------------------+-------------------+--------+--------------+--------------+---------------+----------+\n",
      "|CustomerID|Title|first_name| last_name|company_name|               email|              phone|zip_code|sk_customer_id|effective_date|expiration_date|is_current|\n",
      "+----------+-----+----------+----------+------------+--------------------+-------------------+--------+--------------+--------------+---------------+----------+\n",
      "|         1| Mrs.|     Tiena|     Lowey|        Eare|tlowey0@barnesand...|  +1 (904) 136-7774|   32230|             1|    2023-11-27|     9999-12-31|      true|\n",
      "|         2| Mrs.|   Patrica|McGrowther|      google|pmcgrowther1@frie...|  +1 (772) 846-7575|   34981|             2|    2023-11-27|     9999-12-31|      true|\n",
      "|         3|  Mr.|     Wilma|     Pryce|    Feedfire| wpryce2@4shared.com| +66 (425) 212-5029|   10250|             3|    2023-11-27|     9999-12-31|      true|\n",
      "|         4|  Mr.|  Ethelind|    Boydon|  Divanoodle|eboydon3@national...|+385 (310) 593-6426|   51216|             4|    2023-11-27|     9999-12-31|      true|\n",
      "|         6|  Mr.|   Aravind|   Jarpala|     netflix|    test@netflix.com|   +1 (91) 794-6599|   11005|             5|    2023-11-27|     9999-12-31|      true|\n",
      "+----------+-----+----------+----------+------------+--------------------+-------------------+--------+--------------+--------------+---------------+----------+\n",
      "\n"
     ]
    }
   ],
   "source": [
    "window_spec  = Window.orderBy(\"customerid\")\n",
    "\n",
    "customers_df = spark.read.format(\"jdbc\"). \\\n",
    "                            option(\"url\", url). \\\n",
    "                            option(\"driver\", \"org.postgresql.Driver\"). \\\n",
    "                            option(\"dbtable\", \"source\"). \\\n",
    "                            option(\"user\", os.environ.get(\"user_name\")). \\\n",
    "                            option(\"password\", os.environ.get(\"pdb_pass\")). \\\n",
    "                            load(). \\\n",
    "                            withColumn(\"sk_customer_id\", row_number().over(window_spec)).\\\n",
    "                            withColumn(\"effective_date\", date_format(current_date(), \"yyyy-MM-dd\")). \\\n",
    "                            withColumn(\"expiration_date\", date_format(lit(\"9999-12-31\"), \"yyyy-MM-dd\")). \\\n",
    "                            withColumn(\"is_current\", lit(True))\n",
    "\n",
    "customers_df.show()\n",
    "\n",
    "# customers_df = spark.read. \\\n",
    "#                     options(header=True, delimiter=\",\", inferSchema=True). \\\n",
    "#                     csv('data/customers_mockaroo/customers_5.csv'). \\\n",
    "#                     withColumn(\"sk_customer_id\", monotonically_increasing_id() + 1).\\\n",
    "#                     withColumn(\"effective_date\", date_format(current_date(), \"yyyy-MM-dd\")). \\\n",
    "#                     withColumn(\"expiration_date\", date_format(lit(\"9999-12-31\"), \"yyyy-MM-dd\")). \\\n",
    "#                     withColumn(\"is_current\", lit(True))\n",
    "\n",
    "# customers_df.show()"
   ]
  },
  {
   "cell_type": "code",
   "execution_count": 319,
   "metadata": {},
   "outputs": [],
   "source": [
    "\n",
    "customers_df.write.format(\"jdbc\"). \\\n",
    "            mode('overwrite'). \\\n",
    "            option(\"url\", url). \\\n",
    "            option(\"driver\", \"org.postgresql.Driver\"). \\\n",
    "            option(\"dbtable\", \"incremental\"). \\\n",
    "            option(\"user\", os.environ.get(\"user_name\")). \\\n",
    "            option(\"password\", os.environ.get(\"pdb_pass\")). \\\n",
    "            save()\n",
    "            "
   ]
  },
  {
   "cell_type": "code",
   "execution_count": 359,
   "metadata": {},
   "outputs": [
    {
     "name": "stdout",
     "output_type": "stream",
     "text": [
      "+----------+-----+----------+----------+------------+--------------------+-------------------+--------+\n",
      "|CustomerID|Title|first_name| last_name|company_name|               email|              phone|zip_code|\n",
      "+----------+-----+----------+----------+------------+--------------------+-------------------+--------+\n",
      "|         1| Mrs.|     Tiena|     Lowey|        Eare|tlowey0@barnesand...|  +1 (904) 136-7774|   32230|\n",
      "|         3|  Mr.|     Wilma|     Pryce|    Feedfire| wpryce2@4shared.com| +66 (425) 212-5029|   10250|\n",
      "|         4|  Mr.|  Ethelind|    Boydon|  Divanoodle|eboydon3@national...|+385 (310) 593-6426|   51216|\n",
      "|         6|  Mr.|   Aravind|   Jarpala|     netflix|    test@netflix.com|   +1 (91) 794-6599|   11005|\n",
      "|         2| Mrs.|   Patrica|McGrowther|      google|pmcgrowther1@frie...|  +1 (772) 846-7575|   34981|\n",
      "+----------+-----+----------+----------+------------+--------------------+-------------------+--------+\n",
      "\n",
      "+----------+-----+----------+----------+------------+--------------------+-------------------+--------+--------------+--------------+---------------+----------+\n",
      "|CustomerID|Title|first_name| last_name|company_name|               email|              phone|zip_code|sk_customer_id|effective_date|expiration_date|is_current|\n",
      "+----------+-----+----------+----------+------------+--------------------+-------------------+--------+--------------+--------------+---------------+----------+\n",
      "|         1| Mrs.|     Tiena|     Lowey|        Eare|tlowey0@barnesand...|  +1 (904) 136-7774|   32230|             1|    2023-11-27|     9999-12-31|      true|\n",
      "|         2| Mrs.|   Patrica|McGrowther|      google|pmcgrowther1@frie...|  +1 (772) 846-7575|   34981|             6|    2023-11-27|     9999-12-31|      true|\n",
      "|         3|  Mr.|     Wilma|     Pryce|    Feedfire| wpryce2@4shared.com| +66 (425) 212-5029|   10250|             3|    2023-11-27|     9999-12-31|      true|\n",
      "|         4|  Mr.|  Ethelind|    Boydon|  Divanoodle|eboydon3@national...|+385 (310) 593-6426|   51216|             4|    2023-11-27|     9999-12-31|      true|\n",
      "|         5|  Mr.| Westleigh|    Armell|  Divanoodle|warmell4@national...|  +1 (549) 794-6599|   11005|             5|    2023-11-27|     9999-12-31|      true|\n",
      "|         6|  Mr.|   Aravind|   Jarpala|     netflix|    test@netflix.com|   +1 (91) 794-6599|   11005|             7|    2023-11-27|     9999-12-31|      true|\n",
      "|         2| Mrs.|   Patrica|McGrowther|    Wikkibox|pmcgrowther1@frie...|  +1 (772) 846-7575|   34981|             2|    2023-11-27|     2023-11-27|     false|\n",
      "+----------+-----+----------+----------+------------+--------------------+-------------------+--------+--------------+--------------+---------------+----------+\n",
      "\n"
     ]
    }
   ],
   "source": [
    "customers_current = spark.read.format(\"jdbc\"). \\\n",
    "                            option(\"url\", url). \\\n",
    "                            option(\"driver\", \"org.postgresql.Driver\"). \\\n",
    "                            option(\"dbtable\", \"source\"). \\\n",
    "                            option(\"user\", os.environ.get(\"user_name\")). \\\n",
    "                            option(\"password\", os.environ.get(\"pdb_pass\")). \\\n",
    "                            load()\n",
    "\n",
    "customers_history = spark.read.format(\"jdbc\"). \\\n",
    "                                option(\"url\", url). \\\n",
    "                                option(\"driver\", \"org.postgresql.Driver\"). \\\n",
    "                                option(\"dbtable\", \"incremental\"). \\\n",
    "                                option(\"user\", os.environ.get(\"user_name\")). \\\n",
    "                                option(\"password\", os.environ.get(\"pdb_pass\")). \\\n",
    "                                load(). \\\n",
    "                                withColumn(\"effective_date\", to_date(\"effective_date\")). \\\n",
    "                                withColumn(\"expiration_date\", to_date(\"expiration_date\"))\n",
    "                                \n",
    "\n",
    "customers_current.show()\n",
    "customers_history.show()"
   ]
  },
  {
   "cell_type": "markdown",
   "metadata": {},
   "source": [
    "##### Hashing & Merging"
   ]
  },
  {
   "cell_type": "code",
   "execution_count": 360,
   "metadata": {},
   "outputs": [
    {
     "name": "stdout",
     "output_type": "stream",
     "text": [
      "Maximum surrogate Key id 7\n",
      "+------------------+-------------+------------------+-----------------+--------------------+--------------------+-------------------+----------------+----------------------+----------------------+-----------------------+------------------+--------------------+------------------+-------------+------------------+-----------------+--------------------+--------------------+-------------------+----------------+--------------------+--------+\n",
      "|CustomerID_history|Title_history|first_name_history|last_name_history|company_name_history|       email_history|      phone_history|zip_code_history|sk_customer_id_history|effective_date_history|expiration_date_history|is_current_history|    hash_md5_history|CustomerID_current|Title_current|first_name_current|last_name_current|company_name_current|       email_current|      phone_current|zip_code_current|    hash_md5_current|  Action|\n",
      "+------------------+-------------+------------------+-----------------+--------------------+--------------------+-------------------+----------------+----------------------+----------------------+-----------------------+------------------+--------------------+------------------+-------------+------------------+-----------------+--------------------+--------------------+-------------------+----------------+--------------------+--------+\n",
      "|                 1|         Mrs.|             Tiena|            Lowey|                Eare|tlowey0@barnesand...|  +1 (904) 136-7774|           32230|                     1|            2023-11-27|             9999-12-31|              true|81edf30868e53d554...|                 1|         Mrs.|             Tiena|            Lowey|                Eare|tlowey0@barnesand...|  +1 (904) 136-7774|           32230|81edf30868e53d554...|NOCHANGE|\n",
      "|                 2|         Mrs.|           Patrica|       McGrowther|              google|pmcgrowther1@frie...|  +1 (772) 846-7575|           34981|                     6|            2023-11-27|             9999-12-31|              true|10208c0a7d022df64...|                 2|         Mrs.|           Patrica|       McGrowther|              google|pmcgrowther1@frie...|  +1 (772) 846-7575|           34981|10208c0a7d022df64...|NOCHANGE|\n",
      "|                 3|          Mr.|             Wilma|            Pryce|            Feedfire| wpryce2@4shared.com| +66 (425) 212-5029|           10250|                     3|            2023-11-27|             9999-12-31|              true|3917944cbff8a01ba...|                 3|          Mr.|             Wilma|            Pryce|            Feedfire| wpryce2@4shared.com| +66 (425) 212-5029|           10250|3917944cbff8a01ba...|NOCHANGE|\n",
      "|                 4|          Mr.|          Ethelind|           Boydon|          Divanoodle|eboydon3@national...|+385 (310) 593-6426|           51216|                     4|            2023-11-27|             9999-12-31|              true|db42a17a0e8395f10...|                 4|          Mr.|          Ethelind|           Boydon|          Divanoodle|eboydon3@national...|+385 (310) 593-6426|           51216|db42a17a0e8395f10...|NOCHANGE|\n",
      "|                 5|          Mr.|         Westleigh|           Armell|          Divanoodle|warmell4@national...|  +1 (549) 794-6599|           11005|                     5|            2023-11-27|             9999-12-31|              true|b02ae5fdd5e6d265c...|              NULL|         NULL|              NULL|             NULL|                NULL|                NULL|               NULL|            NULL|                NULL|  DELETE|\n",
      "|                 6|          Mr.|           Aravind|          Jarpala|             netflix|    test@netflix.com|   +1 (91) 794-6599|           11005|                     7|            2023-11-27|             9999-12-31|              true|e7b3ffc3a0a1e65fc...|                 6|          Mr.|           Aravind|          Jarpala|             netflix|    test@netflix.com|   +1 (91) 794-6599|           11005|e7b3ffc3a0a1e65fc...|NOCHANGE|\n",
      "+------------------+-------------+------------------+-----------------+--------------------+--------------------+-------------------+----------------+----------------------+----------------------+-----------------------+------------------+--------------------+------------------+-------------+------------------+-----------------+--------------------+--------------------+-------------------+----------------+--------------------+--------+\n",
      "\n",
      "+----------+-----+----------+----------+------------+--------------------+-----------------+--------+--------------+--------------+---------------+----------+\n",
      "|CustomerID|Title|first_name| last_name|company_name|               email|            phone|zip_code|sk_customer_id|effective_date|expiration_date|is_current|\n",
      "+----------+-----+----------+----------+------------+--------------------+-----------------+--------+--------------+--------------+---------------+----------+\n",
      "|         2| Mrs.|   Patrica|McGrowther|    Wikkibox|pmcgrowther1@frie...|+1 (772) 846-7575|   34981|             2|    2023-11-27|     2023-11-27|     false|\n",
      "+----------+-----+----------+----------+------------+--------------------+-----------------+--------+--------------+--------------+---------------+----------+\n",
      "\n"
     ]
    }
   ],
   "source": [
    "max_sk = customers_history.agg({\"sk_customer_id\": \"max\"}).collect()[0][0]\n",
    "print(\"Maximum surrogate Key id\", max_sk)\n",
    "scd_columns = [\"company_name\", \"email\", \"phone\", \"zip_code\"]\n",
    "\n",
    "df_history_open = customers_history.where(col(\"is_current\"))\n",
    "df_history_closed = customers_history.where(col(\"is_current\") == lit(False))\n",
    "\n",
    "\n",
    "customers_history_open_hash = column_renamer(get_hash(df_history_open, scd_columns), suffix=\"_history\", append=True)\n",
    "\n",
    "customers_current_hash = column_renamer(get_hash(customers_current, scd_columns), suffix=\"_current\", append=True)\n",
    "\n",
    "\n",
    "merged_df = customers_history_open_hash\\\n",
    "            .join(customers_current_hash, col(\"CustomerID_current\") ==  col(\"CustomerID_history\"), how=\"full_outer\")\\\n",
    "            .withColumn(\"Action\", when(col(\"hash_md5_current\") == col(\"hash_md5_history\")  , 'NOCHANGE')\\\n",
    "            .when(col(\"CustomerID_current\").isNull(), 'DELETE')\\\n",
    "            .when(col(\"CustomerID_history\").isNull(), 'INSERT')\\\n",
    "            .otherwise('UPDATE'))\n",
    "\n",
    "merged_df.show()\n",
    "df_history_closed.show()\n"
   ]
  },
  {
   "cell_type": "markdown",
   "metadata": {},
   "source": [
    "##### NO CHANGE "
   ]
  },
  {
   "cell_type": "code",
   "execution_count": 361,
   "metadata": {},
   "outputs": [
    {
     "name": "stdout",
     "output_type": "stream",
     "text": [
      "+----------+-----+----------+----------+------------+--------------------+-------------------+--------+--------------+--------------+---------------+----------+\n",
      "|CustomerID|Title|first_name| last_name|company_name|               email|              phone|zip_code|sk_customer_id|effective_date|expiration_date|is_current|\n",
      "+----------+-----+----------+----------+------------+--------------------+-------------------+--------+--------------+--------------+---------------+----------+\n",
      "|         1| Mrs.|     Tiena|     Lowey|        Eare|tlowey0@barnesand...|  +1 (904) 136-7774|   32230|             1|    2023-11-27|     9999-12-31|      true|\n",
      "|         2| Mrs.|   Patrica|McGrowther|      google|pmcgrowther1@frie...|  +1 (772) 846-7575|   34981|             6|    2023-11-27|     9999-12-31|      true|\n",
      "|         3|  Mr.|     Wilma|     Pryce|    Feedfire| wpryce2@4shared.com| +66 (425) 212-5029|   10250|             3|    2023-11-27|     9999-12-31|      true|\n",
      "|         4|  Mr.|  Ethelind|    Boydon|  Divanoodle|eboydon3@national...|+385 (310) 593-6426|   51216|             4|    2023-11-27|     9999-12-31|      true|\n",
      "|         6|  Mr.|   Aravind|   Jarpala|     netflix|    test@netflix.com|   +1 (91) 794-6599|   11005|             7|    2023-11-27|     9999-12-31|      true|\n",
      "+----------+-----+----------+----------+------------+--------------------+-------------------+--------+--------------+--------------+---------------+----------+\n",
      "\n"
     ]
    }
   ],
   "source": [
    "window_spec  = Window.orderBy(\"customerid\")\n",
    "no_change = column_renamer(merged_df.filter(col(\"action\") == 'NOCHANGE'), suffix=\"_history\", append=False). \\\n",
    "                                    select(df_history_open.columns)\n",
    "\n",
    "no_change.show()"
   ]
  },
  {
   "cell_type": "markdown",
   "metadata": {},
   "source": [
    "##### INSERT"
   ]
  },
  {
   "cell_type": "code",
   "execution_count": 362,
   "metadata": {},
   "outputs": [
    {
     "name": "stdout",
     "output_type": "stream",
     "text": [
      "+----------+-----+----------+---------+------------+-----+-----+--------+--------------+---------------+--------------+----------+\n",
      "|CustomerID|Title|first_name|last_name|company_name|email|phone|zip_code|effective_date|expiration_date|sk_customer_id|is_current|\n",
      "+----------+-----+----------+---------+------------+-----+-----+--------+--------------+---------------+--------------+----------+\n",
      "+----------+-----+----------+---------+------------+-----+-----+--------+--------------+---------------+--------------+----------+\n",
      "\n"
     ]
    }
   ],
   "source": [
    "\n",
    "customers_insert = column_renamer(merged_df.filter(col(\"action\") == 'INSERT'), suffix=\"_current\", append=False). \\\n",
    "                                                    select(customers_current.columns). \\\n",
    "                                                    withColumn(\"effective_date\", date_format(current_date(), \"yyyy-MM-dd\")). \\\n",
    "                                                    withColumn(\"expiration_date\", date_format(lit(\"9999-12-31\"), \"yyyy-MM-dd\")). \\\n",
    "                                                    withColumn(\"row_number\",row_number().over(window_spec)). \\\n",
    "                                                    withColumn(\"sk_customer_id\",col(\"row_number\")+ max_sk). \\\n",
    "                                                    withColumn(\"is_current\", lit(True)). \\\n",
    "                                                    drop(\"row_number\")\n",
    "\n",
    "    \n",
    "customers_insert.show()"
   ]
  },
  {
   "cell_type": "markdown",
   "metadata": {},
   "source": [
    "##### DELETE"
   ]
  },
  {
   "cell_type": "code",
   "execution_count": 363,
   "metadata": {},
   "outputs": [
    {
     "name": "stdout",
     "output_type": "stream",
     "text": [
      "Maximum surrogate Key Id:  7\n",
      "+----------+-----+----------+---------+------------+--------------------+-----------------+--------+--------------+--------------+---------------+----------+\n",
      "|CustomerID|Title|first_name|last_name|company_name|               email|            phone|zip_code|sk_customer_id|effective_date|expiration_date|is_current|\n",
      "+----------+-----+----------+---------+------------+--------------------+-----------------+--------+--------------+--------------+---------------+----------+\n",
      "|         5|  Mr.| Westleigh|   Armell|  Divanoodle|warmell4@national...|+1 (549) 794-6599|   11005|             5|    2023-11-27|     2023-11-27|     false|\n",
      "+----------+-----+----------+---------+------------+--------------------+-----------------+--------+--------------+--------------+---------------+----------+\n",
      "\n"
     ]
    }
   ],
   "source": [
    "if customers_insert.isEmpty():\n",
    "    max_sk = merged_df.agg({\"sk_customer_id_history\": \"max\"}).collect()[0][0]\n",
    "else:\n",
    "    max_sk = customers_insert.agg({\"sk_customer_id\": \"max\"}).collect()[0][0]\n",
    "print(\"Maximum surrogate Key Id: \", max_sk)\n",
    "customers_delete = column_renamer(merged_df.filter(col(\"action\") == 'DELETE'), suffix=\"_history\", append=False). \\\n",
    "                                            select(df_history_open.columns). \\\n",
    "                                            withColumn(\"expiration_date\", date_format(current_date(), \"yyyy-MM-dd\")). \\\n",
    "                                            withColumn(\"is_current\", lit(False))\n",
    "\n",
    "customers_delete.show()"
   ]
  },
  {
   "cell_type": "markdown",
   "metadata": {},
   "source": [
    "##### UPDATE"
   ]
  },
  {
   "cell_type": "code",
   "execution_count": 364,
   "metadata": {},
   "outputs": [
    {
     "name": "stdout",
     "output_type": "stream",
     "text": [
      "+----------+-----+----------+---------+------------+-----+-----+--------+--------------+--------------+---------------+----------+\n",
      "|CustomerID|Title|first_name|last_name|company_name|email|phone|zip_code|sk_customer_id|effective_date|expiration_date|is_current|\n",
      "+----------+-----+----------+---------+------------+-----+-----+--------+--------------+--------------+---------------+----------+\n",
      "+----------+-----+----------+---------+------------+-----+-----+--------+--------------+--------------+---------------+----------+\n",
      "\n"
     ]
    }
   ],
   "source": [
    "customers_update = column_renamer(merged_df.filter(col(\"action\") == 'UPDATE'), suffix=\"_history\", append=False). \\\n",
    "                                            select(df_history_open.columns). \\\n",
    "                                            withColumn(\"expiration_date\", date_format(current_date(), \"yyyy-MM-dd\")). \\\n",
    "                                            withColumn(\"is_current\", lit(False)). \\\n",
    "                    unionByName(\n",
    "                    column_renamer(merged_df.filter(col(\"action\") == 'UPDATE'), suffix=\"_current\", append=False). \\\n",
    "                                            select(customers_current.columns). \\\n",
    "                                            withColumn(\"effective_date\", date_format(current_date(), \"yyyy-MM-dd\")). \\\n",
    "                                            withColumn(\"expiration_date\", date_format(lit(\"9999-12-31\"), \"yyyy-MM-dd\")). \\\n",
    "                                            withColumn(\"row_number\",row_number().over(window_spec)). \\\n",
    "                                            withColumn(\"sk_customer_id\",col(\"row_number\")+ max_sk). \\\n",
    "                                            withColumn(\"is_current\", lit(True)). \\\n",
    "                                            drop(\"row_number\")\n",
    "                                            )\n",
    "\n",
    "customers_update.show()"
   ]
  },
  {
   "cell_type": "markdown",
   "metadata": {},
   "source": [
    "##### UNION ALL DF"
   ]
  },
  {
   "cell_type": "code",
   "execution_count": 365,
   "metadata": {},
   "outputs": [
    {
     "name": "stdout",
     "output_type": "stream",
     "text": [
      "+----------+-----+----------+----------+------------+--------------------+-------------------+--------+--------------+--------------+---------------+----------+\n",
      "|CustomerID|Title|first_name| last_name|company_name|               email|              phone|zip_code|sk_customer_id|effective_date|expiration_date|is_current|\n",
      "+----------+-----+----------+----------+------------+--------------------+-------------------+--------+--------------+--------------+---------------+----------+\n",
      "|         2| Mrs.|   Patrica|McGrowther|    Wikkibox|pmcgrowther1@frie...|  +1 (772) 846-7575|   34981|             2|    2023-11-27|     2023-11-27|     false|\n",
      "|         1| Mrs.|     Tiena|     Lowey|        Eare|tlowey0@barnesand...|  +1 (904) 136-7774|   32230|             1|    2023-11-27|     9999-12-31|      true|\n",
      "|         2| Mrs.|   Patrica|McGrowther|      google|pmcgrowther1@frie...|  +1 (772) 846-7575|   34981|             6|    2023-11-27|     9999-12-31|      true|\n",
      "|         3|  Mr.|     Wilma|     Pryce|    Feedfire| wpryce2@4shared.com| +66 (425) 212-5029|   10250|             3|    2023-11-27|     9999-12-31|      true|\n",
      "|         4|  Mr.|  Ethelind|    Boydon|  Divanoodle|eboydon3@national...|+385 (310) 593-6426|   51216|             4|    2023-11-27|     9999-12-31|      true|\n",
      "|         6|  Mr.|   Aravind|   Jarpala|     netflix|    test@netflix.com|   +1 (91) 794-6599|   11005|             7|    2023-11-27|     9999-12-31|      true|\n",
      "|         5|  Mr.| Westleigh|    Armell|  Divanoodle|warmell4@national...|  +1 (549) 794-6599|   11005|             5|    2023-11-27|     2023-11-27|     false|\n",
      "+----------+-----+----------+----------+------------+--------------------+-------------------+--------+--------------+--------------+---------------+----------+\n",
      "\n"
     ]
    }
   ],
   "source": [
    "final_df = df_history_closed.unionByName(no_change). \\\n",
    "                            unionByName(customers_insert). \\\n",
    "                            unionByName(customers_delete). \\\n",
    "                            unionByName(customers_update)\n",
    "final_df.show()\n",
    "\n",
    "\n",
    "final_df.write.format(\"jdbc\"). \\\n",
    "            mode('overwrite'). \\\n",
    "            option(\"url\", url). \\\n",
    "            option(\"driver\", \"org.postgresql.Driver\"). \\\n",
    "            option(\"dbtable\", \"scd\"). \\\n",
    "            option(\"user\", os.environ.get(\"user_name\")). \\\n",
    "            option(\"password\", os.environ.get(\"pdb_pass\")). \\\n",
    "            save()\n",
    "\n",
    "sample = spark.read.format(\"jdbc\"). \\\n",
    "                option(\"url\", url). \\\n",
    "                option(\"driver\", \"org.postgresql.Driver\"). \\\n",
    "                option(\"dbtable\", \"scd\"). \\\n",
    "                option(\"user\", os.environ.get(\"user_name\")). \\\n",
    "                option(\"password\", os.environ.get(\"pdb_pass\")). \\\n",
    "                load()\n",
    "                \n",
    "sample.write.format(\"jdbc\"). \\\n",
    "            mode('overwrite'). \\\n",
    "            option(\"url\", url). \\\n",
    "            option(\"driver\", \"org.postgresql.Driver\"). \\\n",
    "            option(\"dbtable\", \"incremental\"). \\\n",
    "            option(\"user\", os.environ.get(\"user_name\")). \\\n",
    "            option(\"password\", os.environ.get(\"pdb_pass\")). \\\n",
    "            save()\n"
   ]
  },
  {
   "cell_type": "code",
   "execution_count": 366,
   "metadata": {},
   "outputs": [],
   "source": [
    "spark.stop()"
   ]
  },
  {
   "cell_type": "code",
   "execution_count": null,
   "metadata": {},
   "outputs": [],
   "source": []
  }
 ],
 "metadata": {
  "kernelspec": {
   "display_name": "Python 3",
   "language": "python",
   "name": "python3"
  },
  "language_info": {
   "codemirror_mode": {
    "name": "ipython",
    "version": 3
   },
   "file_extension": ".py",
   "mimetype": "text/x-python",
   "name": "python",
   "nbconvert_exporter": "python",
   "pygments_lexer": "ipython3",
   "version": "3.10.6"
  }
 },
 "nbformat": 4,
 "nbformat_minor": 2
}
